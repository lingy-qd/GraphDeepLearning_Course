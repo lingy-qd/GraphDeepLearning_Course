{
 "cells": [
  {
   "cell_type": "markdown",
   "metadata": {},
   "source": [
    "# 第一次作业\n",
    "\n",
    "在3.1和3.2小节的基础上，探究网络层数、隐藏层神经元个数和激活函数对网络在MNIST数据集上的性能的影响。\n",
    "\n",
    "1. 将网络层数调整为{1,2,3,4,5}，观察模型在训练集和测试集上的损失函数/准确率的变化。\n",
    "1. 固定网络层数为2，将隐藏层神经元个数调整为{1,4,16,64}，观察模型在训练集和测试集上的损失函数/准确率的变化。\n",
    "1. 固定网络层数为2，去掉网络中的激活函数，观察模型在训练集和测试集上的损失函数/准确率。\n",
    "1. 对于上述的现象，我们能解释其发生的原因吗？"
   ]
  },
  {
   "cell_type": "markdown",
   "metadata": {},
   "source": [
    "### 第一小题"
   ]
  },
  {
   "cell_type": "code",
   "execution_count": 1,
   "metadata": {},
   "outputs": [
    {
     "name": "stderr",
     "output_type": "stream",
     "text": [
      "d:\\anaconda3\\envs\\pytorch\\lib\\site-packages\\tqdm\\auto.py:22: TqdmWarning: IProgress not found. Please update jupyter and ipywidgets. See https://ipywidgets.readthedocs.io/en/stable/user_install.html\n",
      "  from .autonotebook import tqdm as notebook_tqdm\n"
     ]
    }
   ],
   "source": [
    "import torch\n",
    "from torch import nn\n",
    "import torch.nn.functional as F"
   ]
  },
  {
   "cell_type": "code",
   "execution_count": 2,
   "metadata": {},
   "outputs": [
    {
     "name": "stdout",
     "output_type": "stream",
     "text": [
      "Downloading http://yann.lecun.com/exdb/mnist/train-images-idx3-ubyte.gz\n",
      "Downloading http://[2001:252:0:2::112]:8081/IXCa9bee7c9d834e0e4d14e3b433c66e97e_2001:da8:d800:611:9cc9:4ed7:b096:d876/exdb/mnist/train-images-idx3-ubyte.gz to data\\MNIST\\raw\\train-images-idx3-ubyte.gz\n"
     ]
    },
    {
     "name": "stderr",
     "output_type": "stream",
     "text": [
      "9913344it [00:00, 14791523.28it/s]                             \n"
     ]
    },
    {
     "name": "stdout",
     "output_type": "stream",
     "text": [
      "Extracting data\\MNIST\\raw\\train-images-idx3-ubyte.gz to data\\MNIST\\raw\n",
      "\n",
      "Downloading http://yann.lecun.com/exdb/mnist/train-labels-idx1-ubyte.gz\n",
      "Downloading http://yann.lecun.com/exdb/mnist/train-labels-idx1-ubyte.gz to data\\MNIST\\raw\\train-labels-idx1-ubyte.gz\n"
     ]
    },
    {
     "name": "stderr",
     "output_type": "stream",
     "text": [
      "29696it [00:00, 4034923.44it/s]          \n"
     ]
    },
    {
     "name": "stdout",
     "output_type": "stream",
     "text": [
      "Extracting data\\MNIST\\raw\\train-labels-idx1-ubyte.gz to data\\MNIST\\raw\n",
      "\n",
      "Downloading http://yann.lecun.com/exdb/mnist/t10k-images-idx3-ubyte.gz\n",
      "Downloading http://[2001:252:0:2::112]:8081/IXC4850d335c3a12bee99feaea3a5415a6f_2001:da8:d800:611:9cc9:4ed7:b096:d876/exdb/mnist/t10k-images-idx3-ubyte.gz to data\\MNIST\\raw\\t10k-images-idx3-ubyte.gz\n"
     ]
    },
    {
     "name": "stderr",
     "output_type": "stream",
     "text": [
      "1649664it [00:00, 4274766.31it/s]                            \n"
     ]
    },
    {
     "name": "stdout",
     "output_type": "stream",
     "text": [
      "Extracting data\\MNIST\\raw\\t10k-images-idx3-ubyte.gz to data\\MNIST\\raw\n",
      "\n",
      "Downloading http://yann.lecun.com/exdb/mnist/t10k-labels-idx1-ubyte.gz\n",
      "Downloading http://yann.lecun.com/exdb/mnist/t10k-labels-idx1-ubyte.gz to data\\MNIST\\raw\\t10k-labels-idx1-ubyte.gz\n"
     ]
    },
    {
     "name": "stderr",
     "output_type": "stream",
     "text": [
      "5120it [00:00, ?it/s]                   "
     ]
    },
    {
     "name": "stdout",
     "output_type": "stream",
     "text": [
      "Extracting data\\MNIST\\raw\\t10k-labels-idx1-ubyte.gz to data\\MNIST\\raw\n",
      "\n"
     ]
    },
    {
     "name": "stderr",
     "output_type": "stream",
     "text": [
      "\n",
      "d:\\anaconda3\\envs\\pytorch\\lib\\site-packages\\torchvision\\datasets\\mnist.py:498: UserWarning: The given NumPy array is not writeable, and PyTorch does not support non-writeable tensors. This means you can write to the underlying (supposedly non-writeable) NumPy array using the tensor. You may want to copy the array to protect its data or make it writeable before converting it to a tensor. This type of warning will be suppressed for the rest of this program. (Triggered internally at  ..\\torch\\csrc\\utils\\tensor_numpy.cpp:180.)\n",
      "  return torch.from_numpy(parsed.astype(m[2], copy=False)).view(*s)\n"
     ]
    }
   ],
   "source": [
    "import matplotlib.pyplot as plt\n",
    "from torchvision import datasets, transforms\n",
    "\n",
    "# 下载MNIST数据集中的训练集，并保存到data文件夹\n",
    "data_train = datasets.MNIST('data', train=True, download=True, transform=transforms.ToTensor())\n",
    "# 加载MNIST数据集中的测试集\n",
    "data_test = datasets.MNIST('data', train=False, download=True, transform=transforms.ToTensor())"
   ]
  },
  {
   "cell_type": "code",
   "execution_count": 4,
   "metadata": {},
   "outputs": [
    {
     "data": {
      "text/plain": [
       "torchvision.datasets.mnist.MNIST"
      ]
     },
     "execution_count": 4,
     "metadata": {},
     "output_type": "execute_result"
    }
   ],
   "source": [
    "type(data_train)"
   ]
  },
  {
   "cell_type": "code",
   "execution_count": 5,
   "metadata": {},
   "outputs": [
    {
     "data": {
      "text/plain": [
       "torch.Size([1, 28, 28])"
      ]
     },
     "execution_count": 5,
     "metadata": {},
     "output_type": "execute_result"
    }
   ],
   "source": [
    "img, label = data_train[0] # 取出第一个数据（第一张图片）\n",
    "img.size() "
   ]
  },
  {
   "cell_type": "code",
   "execution_count": 29,
   "metadata": {},
   "outputs": [
    {
     "data": {
      "text/plain": [
       "'cpu'"
      ]
     },
     "execution_count": 29,
     "metadata": {},
     "output_type": "execute_result"
    }
   ],
   "source": [
    "device = 'cuda' if torch.cuda.is_available() else 'cpu'\n",
    "device"
   ]
  },
  {
   "cell_type": "code",
   "execution_count": 63,
   "metadata": {},
   "outputs": [],
   "source": [
    "# 定义MLP网络，更改层数{1,2,3,4,5}\n",
    "\n",
    "class MLP(nn.Module):\n",
    "    def __init__(self, in_features, hidden_features, out_features):\n",
    "        super(MLP, self).__init__()\n",
    "        self.in_features = in_features\n",
    "        self.layer1 = nn.Linear(in_features, hidden_features) # 此处的nn.Linear是PyTorch里定义的线性层\n",
    "        self.layer2 = nn.Linear(hidden_features, hidden_features)\n",
    "        self.layer3 = nn.Linear(hidden_features, hidden_features)\n",
    "        self.layer4 = nn.Linear(hidden_features, hidden_features)\n",
    "        self.layer5 = nn.Linear(hidden_features, out_features)\n",
    "        \n",
    "    def forward(self, x):\n",
    "        x = x.view(-1, self.in_features) # 将每张图片转换成向量\n",
    "        x = self.layer1(x)\n",
    "        x = F.relu(x) # 非线性激活层，ReLU函数\n",
    "        x = self.layer2(x)\n",
    "        x = F.relu(x)\n",
    "        x = self.layer3(x)\n",
    "        x = F.relu(x)\n",
    "        x = self.layer4(x)\n",
    "        x = F.relu(x)\n",
    "        x = self.layer5(x)\n",
    "        return x"
   ]
  },
  {
   "cell_type": "code",
   "execution_count": 97,
   "metadata": {},
   "outputs": [],
   "source": [
    "# 我们定义一个train函数来封装我们的训练过程\n",
    "def train(model, data, num_epochs=15, learning_rate=1e-3, batch_size=32):\n",
    "    # 定义一个优化器，Adam优化器是梯度下降法的一个变种\n",
    "    optimizer = torch.optim.Adam(model.parameters(),\n",
    "                                 lr=learning_rate, \n",
    "                                 weight_decay=1e-5) # weight_decay表示L2正则项\n",
    "    \n",
    "    # 把训练数据封装到DataLoader，这样便于我们以及选取batch以及打乱数据顺序\n",
    "    train_loader = torch.utils.data.DataLoader(data, \n",
    "                                               batch_size=batch_size, \n",
    "                                               shuffle=True)\n",
    "    # 定义损失函数（里面包含了softmax操作）\n",
    "    criterion = nn.CrossEntropyLoss()\n",
    "\n",
    "    # 记录每个epoch的loss，为了后面画图\n",
    "    loss_list=[]\n",
    "    \n",
    "    for epoch in range(num_epochs):\n",
    "        loss_total = 0 # 定义一个loss_total变量来记录我们的loss变化\n",
    "        for data in train_loader:\n",
    "            # 梯度清零\n",
    "            optimizer.zero_grad()\n",
    "            \n",
    "            img, label = data\n",
    "            img = img.to(device)\n",
    "            label = label.to(device)\n",
    "            \n",
    "            # 前向传播和反向传播 \n",
    "            output = model(img)\n",
    "            loss = criterion(output, label)\n",
    "            loss.backward()\n",
    "            \n",
    "            # 优化参数\n",
    "            optimizer.step()\n",
    "\n",
    "        loss_total += loss.item() \n",
    "        loss_list.append(loss_total)\n",
    "        print('Epoch: {}, Training Loss: {:.4f}'.format(epoch+1, loss_total))\n",
    "\n",
    "    return loss_list\n"
   ]
  },
  {
   "cell_type": "code",
   "execution_count": 42,
   "metadata": {},
   "outputs": [],
   "source": [
    "@torch.no_grad() # 由于测试的时候不需要求导，可以暂时关闭autograd，提高速度，节约内存\n",
    "def test(model, data, batch_size=128):\n",
    "    num_correct = 0 # 预测正确的图片数\n",
    "    num_total = 0 # 总共的图片数\n",
    "    \n",
    "    test_loader = torch.utils.data.DataLoader(data, \n",
    "                                              batch_size=batch_size, \n",
    "                                              shuffle=False)\n",
    "    for data in test_loader: # 按batch取出测试集中的数据\n",
    "        img, label = data\n",
    "        img = img.to(device)\n",
    "        label = label.to(device)\n",
    "        output = model(img)\n",
    "        predicted = output.argmax(1)\n",
    "        num_total += len(label)\n",
    "        num_correct += (predicted == label).sum()\n",
    "\n",
    "    print('共有{}张图片，准确率为: {:.2f}%'.format(num_correct, 100 * num_correct / num_total))    \n",
    "\n",
    "    return num_correct / num_total"
   ]
  },
  {
   "cell_type": "code",
   "execution_count": 43,
   "metadata": {},
   "outputs": [
    {
     "data": {
      "text/plain": [
       "(784, 10)"
      ]
     },
     "execution_count": 43,
     "metadata": {},
     "output_type": "execute_result"
    }
   ],
   "source": [
    "img, label = data_train[0]\n",
    "img = img.view(-1)  # view(-1)表示把矩阵变成一维向量: (1,28,28) --> (784,)\n",
    "feat_dim = len(img) # 计算输入的特征的维度（图片的维度）\n",
    "num_classes = 10\n",
    "feat_dim, num_classes"
   ]
  },
  {
   "cell_type": "code",
   "execution_count": 64,
   "metadata": {},
   "outputs": [
    {
     "data": {
      "text/plain": [
       "MLP(\n",
       "  (layer1): Linear(in_features=784, out_features=256, bias=True)\n",
       "  (layer2): Linear(in_features=256, out_features=256, bias=True)\n",
       "  (layer3): Linear(in_features=256, out_features=256, bias=True)\n",
       "  (layer4): Linear(in_features=256, out_features=256, bias=True)\n",
       "  (layer5): Linear(in_features=256, out_features=10, bias=True)\n",
       ")"
      ]
     },
     "execution_count": 64,
     "metadata": {},
     "output_type": "execute_result"
    }
   ],
   "source": [
    "model = MLP(in_features=feat_dim, hidden_features=256, out_features=num_classes)\n",
    "model = model.to(device)\n",
    "model"
   ]
  },
  {
   "cell_type": "code",
   "execution_count": 45,
   "metadata": {},
   "outputs": [
    {
     "name": "stdout",
     "output_type": "stream",
     "text": [
      "Epoch: 1, Training Loss: 0.3969\n",
      "Epoch: 2, Training Loss: 0.3533\n",
      "Epoch: 3, Training Loss: 0.4258\n",
      "Epoch: 4, Training Loss: 0.6783\n",
      "Epoch: 5, Training Loss: 0.1624\n",
      "Epoch: 6, Training Loss: 0.1409\n",
      "Epoch: 7, Training Loss: 0.3243\n",
      "Epoch: 8, Training Loss: 0.1403\n",
      "Epoch: 9, Training Loss: 0.0718\n",
      "Epoch: 10, Training Loss: 0.1440\n"
     ]
    }
   ],
   "source": [
    "loss_1layer = train(model, data_train)"
   ]
  },
  {
   "cell_type": "code",
   "execution_count": 48,
   "metadata": {},
   "outputs": [
    {
     "name": "stdout",
     "output_type": "stream",
     "text": [
      "共有55961张图片，准确率为: 93.27%\n",
      "共有9274张图片，准确率为: 92.74%\n"
     ]
    }
   ],
   "source": [
    "score1 = test(model, data_train)\n",
    "score2 = test(model, data_test)\n",
    "score_1layer = [score1, score2]"
   ]
  },
  {
   "cell_type": "code",
   "execution_count": 50,
   "metadata": {},
   "outputs": [
    {
     "data": {
      "text/plain": [
       "[tensor(0.9327), tensor(0.9274)]"
      ]
     },
     "execution_count": 50,
     "metadata": {},
     "output_type": "execute_result"
    }
   ],
   "source": [
    "score_1layer"
   ]
  },
  {
   "cell_type": "code",
   "execution_count": 53,
   "metadata": {},
   "outputs": [
    {
     "name": "stdout",
     "output_type": "stream",
     "text": [
      "Epoch: 1, Training Loss: 0.1258\n",
      "Epoch: 2, Training Loss: 0.0413\n",
      "Epoch: 3, Training Loss: 0.0134\n",
      "Epoch: 4, Training Loss: 0.0074\n",
      "Epoch: 5, Training Loss: 0.0046\n",
      "Epoch: 6, Training Loss: 0.0040\n",
      "Epoch: 7, Training Loss: 0.0601\n",
      "Epoch: 8, Training Loss: 0.0486\n",
      "Epoch: 9, Training Loss: 0.0027\n",
      "Epoch: 10, Training Loss: 0.0891\n"
     ]
    }
   ],
   "source": [
    "loss_2layer = train(model, data_train)"
   ]
  },
  {
   "cell_type": "code",
   "execution_count": 54,
   "metadata": {},
   "outputs": [
    {
     "name": "stdout",
     "output_type": "stream",
     "text": [
      "共有59867张图片，准确率为: 99.78%\n",
      "共有9799张图片，准确率为: 97.99%\n"
     ]
    }
   ],
   "source": [
    "score1 = test(model, data_train)\n",
    "score2 = test(model, data_test)\n",
    "score_2layer = [score1, score2]"
   ]
  },
  {
   "cell_type": "code",
   "execution_count": 57,
   "metadata": {},
   "outputs": [
    {
     "name": "stdout",
     "output_type": "stream",
     "text": [
      "Epoch: 1, Training Loss: 0.2695\n",
      "Epoch: 2, Training Loss: 0.0305\n",
      "Epoch: 3, Training Loss: 0.0519\n",
      "Epoch: 4, Training Loss: 0.0089\n",
      "Epoch: 5, Training Loss: 0.0020\n",
      "Epoch: 6, Training Loss: 0.0148\n",
      "Epoch: 7, Training Loss: 0.0076\n",
      "Epoch: 8, Training Loss: 0.0004\n",
      "Epoch: 9, Training Loss: 0.0488\n",
      "Epoch: 10, Training Loss: 0.0001\n"
     ]
    }
   ],
   "source": [
    "loss_3layer = train(model, data_train)"
   ]
  },
  {
   "cell_type": "code",
   "execution_count": 58,
   "metadata": {},
   "outputs": [
    {
     "name": "stdout",
     "output_type": "stream",
     "text": [
      "共有59666张图片，准确率为: 99.44%\n",
      "共有9803张图片，准确率为: 98.03%\n"
     ]
    }
   ],
   "source": [
    "score1 = test(model, data_train)\n",
    "score2 = test(model, data_test)\n",
    "score_3layer = [score1, score2]"
   ]
  },
  {
   "cell_type": "code",
   "execution_count": 61,
   "metadata": {},
   "outputs": [
    {
     "name": "stdout",
     "output_type": "stream",
     "text": [
      "Epoch: 1, Training Loss: 0.2092\n",
      "Epoch: 2, Training Loss: 0.0009\n",
      "Epoch: 3, Training Loss: 0.0029\n",
      "Epoch: 4, Training Loss: 0.0146\n",
      "Epoch: 5, Training Loss: 0.0011\n",
      "Epoch: 6, Training Loss: 0.1515\n",
      "Epoch: 7, Training Loss: 0.0847\n",
      "Epoch: 8, Training Loss: 0.0004\n",
      "Epoch: 9, Training Loss: 0.0065\n",
      "Epoch: 10, Training Loss: 0.0193\n"
     ]
    }
   ],
   "source": [
    "loss_4layer = train(model, data_train)"
   ]
  },
  {
   "cell_type": "code",
   "execution_count": 62,
   "metadata": {},
   "outputs": [
    {
     "name": "stdout",
     "output_type": "stream",
     "text": [
      "共有59544张图片，准确率为: 99.24%\n",
      "共有9760张图片，准确率为: 97.60%\n"
     ]
    }
   ],
   "source": [
    "score1 = test(model, data_train)\n",
    "score2 = test(model, data_test)\n",
    "score_4layer = [score1, score2]"
   ]
  },
  {
   "cell_type": "code",
   "execution_count": 65,
   "metadata": {},
   "outputs": [
    {
     "name": "stdout",
     "output_type": "stream",
     "text": [
      "Epoch: 1, Training Loss: 0.1055\n",
      "Epoch: 2, Training Loss: 0.1338\n",
      "Epoch: 3, Training Loss: 0.0531\n",
      "Epoch: 4, Training Loss: 0.0312\n",
      "Epoch: 5, Training Loss: 0.0022\n",
      "Epoch: 6, Training Loss: 0.0038\n",
      "Epoch: 7, Training Loss: 0.1863\n",
      "Epoch: 8, Training Loss: 0.0157\n",
      "Epoch: 9, Training Loss: 0.0064\n",
      "Epoch: 10, Training Loss: 0.0068\n"
     ]
    }
   ],
   "source": [
    "loss_5layer = train(model, data_train)"
   ]
  },
  {
   "cell_type": "code",
   "execution_count": 66,
   "metadata": {},
   "outputs": [
    {
     "name": "stdout",
     "output_type": "stream",
     "text": [
      "共有59676张图片，准确率为: 99.46%\n",
      "共有9796张图片，准确率为: 97.96%\n"
     ]
    }
   ],
   "source": [
    "score1 = test(model, data_train)\n",
    "score2 = test(model, data_test)\n",
    "score_5layer = [score1, score2]"
   ]
  },
  {
   "cell_type": "markdown",
   "metadata": {},
   "source": [
    "#### 画图进行分析"
   ]
  },
  {
   "cell_type": "code",
   "execution_count": 87,
   "metadata": {},
   "outputs": [],
   "source": [
    "import matplotlib.pyplot as plt\n",
    "import numpy as np"
   ]
  },
  {
   "cell_type": "code",
   "execution_count": 72,
   "metadata": {},
   "outputs": [
    {
     "data": {
      "image/png": "[encoded data removed]",
      "text/plain": [
       "<Figure size 720x432 with 1 Axes>"
      ]
     },
     "metadata": {
      "needs_background": "light"
     },
     "output_type": "display_data"
    }
   ],
   "source": [
    "x = [i for i in range(10)]\n",
    "plt.figure(figsize=(10,6))\n",
    "plt.plot(x, loss_1layer)\n",
    "plt.plot(x, loss_2layer)\n",
    "plt.plot(x, loss_3layer)\n",
    "plt.plot(x, loss_4layer)\n",
    "plt.plot(x, loss_5layer)\n",
    "plt.xlabel(\"epoch\")\n",
    "plt.ylabel(\"train loss\")\n",
    "plt.legend([\"layer=1\",\"layer=2\",\"layer=3\",\"layer=4\",\"layer=5\"])\n",
    "plt.show()"
   ]
  },
  {
   "cell_type": "markdown",
   "metadata": {},
   "source": [
    "调整网络层数为{1,2,3,4,5}，图中折线图画出了模型的训练误差随epoch变化的图像。\n",
    "误差都呈现震荡下降的趋势。\n",
    "layer=1时的误差明显高于其他四种情况，猜测原因是layer=1时只有一个线性层、没有激活函数，模型过于简单导致拟合能力差。"
   ]
  },
  {
   "cell_type": "code",
   "execution_count": 76,
   "metadata": {},
   "outputs": [],
   "source": [
    "train_score = [score_1layer[0],score_2layer[0],score_3layer[0],score_4layer[0],score_5layer[0]]\n",
    "test_score = [score_1layer[1],score_2layer[1],score_3layer[1],score_4layer[1],score_5layer[1]]"
   ]
  },
  {
   "cell_type": "code",
   "execution_count": 77,
   "metadata": {},
   "outputs": [
    {
     "data": {
      "text/plain": [
       "([tensor(0.9327),\n",
       "  tensor(0.9978),\n",
       "  tensor(0.9944),\n",
       "  tensor(0.9924),\n",
       "  tensor(0.9946)],\n",
       " [tensor(0.9274),\n",
       "  tensor(0.9799),\n",
       "  tensor(0.9803),\n",
       "  tensor(0.9760),\n",
       "  tensor(0.9796)])"
      ]
     },
     "execution_count": 77,
     "metadata": {},
     "output_type": "execute_result"
    }
   ],
   "source": [
    "train_score, test_score"
   ]
  },
  {
   "cell_type": "code",
   "execution_count": 92,
   "metadata": {},
   "outputs": [
    {
     "data": {
      "image/png": "[encoded data removed]",
      "text/plain": [
       "<Figure size 720x432 with 1 Axes>"
      ]
     },
     "metadata": {
      "needs_background": "light"
     },
     "output_type": "display_data"
    }
   ],
   "source": [
    "bar_width = 0.3\n",
    "\n",
    "plt.figure(figsize=(10,6))\n",
    "x = np.arange(5)\n",
    "x_label = [\"layer=1\", \"layer=2\", \"layer=3\", \"layer=4\", \"layer=5\"]\n",
    "plt.bar(x, train_score, width=bar_width, tick_label=x_label, label=\"train accuracy\")\n",
    "plt.bar(x+bar_width, test_score, width=bar_width, tick_label=x_label, label=\"test accuracy\")\n",
    "\n",
    "plt.legend()\n",
    "plt.ylabel(\"accuracy\")\n",
    "plt.show()"
   ]
  },
  {
   "cell_type": "markdown",
   "metadata": {},
   "source": [
    "从图中可以看出，无论层数多少，每个模型在训练集和测试集上都获得了较高的准确率。每个模型的测试集准确率都略低于训练集准确率，但相差不多，说明模型泛化性能比较不错。"
   ]
  },
  {
   "cell_type": "markdown",
   "metadata": {},
   "source": [
    "### 第二小题"
   ]
  },
  {
   "cell_type": "code",
   "execution_count": 94,
   "metadata": {},
   "outputs": [],
   "source": [
    "class MLP(nn.Module):\n",
    "    def __init__(self, in_features, hidden_features, out_features):\n",
    "        super(MLP, self).__init__()\n",
    "        self.in_features = in_features\n",
    "        self.layer1 = nn.Linear(in_features, hidden_features) # 此处的nn.Linear是PyTorch里定义的线性层\n",
    "        self.layer2 = nn.Linear(hidden_features, out_features)\n",
    "        \n",
    "    def forward(self, x):\n",
    "        x = x.view(-1, self.in_features) # 将每张图片转换成向量\n",
    "        x = self.layer1(x)\n",
    "        x = F.relu(x) # 非线性激活层，ReLU函数\n",
    "        x = self.layer2(x)\n",
    "        return x"
   ]
  },
  {
   "cell_type": "code",
   "execution_count": 98,
   "metadata": {},
   "outputs": [
    {
     "name": "stdout",
     "output_type": "stream",
     "text": [
      "1\n",
      "MLP(\n",
      "  (layer1): Linear(in_features=784, out_features=1, bias=True)\n",
      "  (layer2): Linear(in_features=1, out_features=10, bias=True)\n",
      ")\n",
      "Epoch: 1, Training Loss: 1.8026\n",
      "Epoch: 2, Training Loss: 1.8064\n",
      "Epoch: 3, Training Loss: 1.7415\n",
      "Epoch: 4, Training Loss: 1.7899\n",
      "Epoch: 5, Training Loss: 1.8094\n",
      "Epoch: 6, Training Loss: 2.0438\n",
      "Epoch: 7, Training Loss: 1.6018\n",
      "Epoch: 8, Training Loss: 1.6455\n",
      "Epoch: 9, Training Loss: 1.7434\n",
      "Epoch: 10, Training Loss: 1.7960\n",
      "Epoch: 11, Training Loss: 1.5173\n",
      "Epoch: 12, Training Loss: 1.8171\n",
      "Epoch: 13, Training Loss: 1.5716\n",
      "Epoch: 14, Training Loss: 1.5973\n",
      "Epoch: 15, Training Loss: 1.5123\n",
      "共有21567张图片，准确率为: 35.94%\n",
      "共有3662张图片，准确率为: 36.62%\n",
      "\n",
      "\n",
      "4\n",
      "MLP(\n",
      "  (layer1): Linear(in_features=784, out_features=4, bias=True)\n",
      "  (layer2): Linear(in_features=4, out_features=10, bias=True)\n",
      ")\n",
      "Epoch: 1, Training Loss: 1.2001\n",
      "Epoch: 2, Training Loss: 0.5865\n",
      "Epoch: 3, Training Loss: 1.0018\n",
      "Epoch: 4, Training Loss: 0.4950\n",
      "Epoch: 5, Training Loss: 0.6548\n",
      "Epoch: 6, Training Loss: 0.4938\n",
      "Epoch: 7, Training Loss: 0.3301\n",
      "Epoch: 8, Training Loss: 0.2330\n",
      "Epoch: 9, Training Loss: 0.3717\n",
      "Epoch: 10, Training Loss: 0.3423\n",
      "Epoch: 11, Training Loss: 0.4516\n",
      "Epoch: 12, Training Loss: 0.3414\n",
      "Epoch: 13, Training Loss: 0.2598\n",
      "Epoch: 14, Training Loss: 0.4248\n",
      "Epoch: 15, Training Loss: 0.2206\n",
      "共有52124张图片，准确率为: 86.87%\n",
      "共有8694张图片，准确率为: 86.94%\n",
      "\n",
      "\n",
      "16\n",
      "MLP(\n",
      "  (layer1): Linear(in_features=784, out_features=16, bias=True)\n",
      "  (layer2): Linear(in_features=16, out_features=10, bias=True)\n",
      ")\n",
      "Epoch: 1, Training Loss: 0.2279\n",
      "Epoch: 2, Training Loss: 0.3589\n",
      "Epoch: 3, Training Loss: 0.3005\n",
      "Epoch: 4, Training Loss: 0.0488\n",
      "Epoch: 5, Training Loss: 0.0404\n",
      "Epoch: 6, Training Loss: 0.0523\n",
      "Epoch: 7, Training Loss: 0.1176\n",
      "Epoch: 8, Training Loss: 0.0597\n",
      "Epoch: 9, Training Loss: 0.1530\n",
      "Epoch: 10, Training Loss: 0.0471\n",
      "Epoch: 11, Training Loss: 0.3944\n",
      "Epoch: 12, Training Loss: 0.0325\n",
      "Epoch: 13, Training Loss: 0.0885\n",
      "Epoch: 14, Training Loss: 0.0855\n",
      "Epoch: 15, Training Loss: 0.2825\n",
      "共有58076张图片，准确率为: 96.79%\n",
      "共有9580张图片，准确率为: 95.80%\n",
      "\n",
      "\n",
      "64\n",
      "MLP(\n",
      "  (layer1): Linear(in_features=784, out_features=64, bias=True)\n",
      "  (layer2): Linear(in_features=64, out_features=10, bias=True)\n",
      ")\n",
      "Epoch: 1, Training Loss: 0.2321\n",
      "Epoch: 2, Training Loss: 0.1121\n",
      "Epoch: 3, Training Loss: 0.0370\n",
      "Epoch: 4, Training Loss: 0.1324\n",
      "Epoch: 5, Training Loss: 0.0550\n",
      "Epoch: 6, Training Loss: 0.0635\n",
      "Epoch: 7, Training Loss: 0.0206\n",
      "Epoch: 8, Training Loss: 0.0208\n",
      "Epoch: 9, Training Loss: 0.0227\n",
      "Epoch: 10, Training Loss: 0.1141\n",
      "Epoch: 11, Training Loss: 0.0110\n",
      "Epoch: 12, Training Loss: 0.0201\n",
      "Epoch: 13, Training Loss: 0.0871\n",
      "Epoch: 14, Training Loss: 0.0491\n",
      "Epoch: 15, Training Loss: 0.0535\n",
      "共有59646张图片，准确率为: 99.41%\n",
      "共有9747张图片，准确率为: 97.47%\n",
      "\n",
      "\n"
     ]
    }
   ],
   "source": [
    "a = [1,4,16,64]\n",
    "train_loss_list = []\n",
    "train_score_list = []\n",
    "test_score_list = []\n",
    "\n",
    "for hidden in a:\n",
    "\n",
    "    print(hidden)\n",
    "\n",
    "    model = MLP(in_features=feat_dim, hidden_features=hidden, out_features=num_classes)\n",
    "    model = model.to(device)\n",
    "    print(model)\n",
    "\n",
    "    train_loss = train(model, data_train)\n",
    "    train_loss_list.append(train_loss)\n",
    "\n",
    "    score1 = test(model, data_train)\n",
    "    train_score_list.append(score1)\n",
    "    score2 = test(model, data_test)\n",
    "    test_score_list.append(score2)\n",
    "\n",
    "    print(\"\\n\")"
   ]
  },
  {
   "cell_type": "code",
   "execution_count": 102,
   "metadata": {},
   "outputs": [
    {
     "data": {
      "text/plain": [
       "[tensor(0.3595), tensor(0.8687), tensor(0.9679), tensor(0.9941)]"
      ]
     },
     "execution_count": 102,
     "metadata": {},
     "output_type": "execute_result"
    }
   ],
   "source": [
    "train_score_list"
   ]
  },
  {
   "cell_type": "code",
   "execution_count": 103,
   "metadata": {},
   "outputs": [
    {
     "data": {
      "text/plain": [
       "[tensor(0.3662), tensor(0.8694), tensor(0.9580), tensor(0.9747)]"
      ]
     },
     "execution_count": 103,
     "metadata": {},
     "output_type": "execute_result"
    }
   ],
   "source": [
    "test_score_list"
   ]
  },
  {
   "cell_type": "code",
   "execution_count": 104,
   "metadata": {},
   "outputs": [
    {
     "data": {
      "text/plain": [
       "[[1.802565097808838,\n",
       "  1.8063628673553467,\n",
       "  1.7415060997009277,\n",
       "  1.7898849248886108,\n",
       "  1.8094300031661987,\n",
       "  2.043771743774414,\n",
       "  1.6018131971359253,\n",
       "  1.6455224752426147,\n",
       "  1.7434293031692505,\n",
       "  1.7959649562835693,\n",
       "  1.5173301696777344,\n",
       "  1.8171025514602661,\n",
       "  1.5715969800949097,\n",
       "  1.5972899198532104,\n",
       "  1.5122909545898438],\n",
       " [1.2001456022262573,\n",
       "  0.586456298828125,\n",
       "  1.0018314123153687,\n",
       "  0.4949749708175659,\n",
       "  0.6548454761505127,\n",
       "  0.493830144405365,\n",
       "  0.33014363050460815,\n",
       "  0.23298677802085876,\n",
       "  0.3717491924762726,\n",
       "  0.3423231244087219,\n",
       "  0.45161280035972595,\n",
       "  0.3413734436035156,\n",
       "  0.25979703664779663,\n",
       "  0.42481178045272827,\n",
       "  0.22060759365558624],\n",
       " [0.22790269553661346,\n",
       "  0.3589158356189728,\n",
       "  0.30048197507858276,\n",
       "  0.04876268282532692,\n",
       "  0.04035449028015137,\n",
       "  0.05231915041804314,\n",
       "  0.11764594912528992,\n",
       "  0.05969787389039993,\n",
       "  0.15297457575798035,\n",
       "  0.0470503531396389,\n",
       "  0.3944111764431,\n",
       "  0.0324556902050972,\n",
       "  0.08853219449520111,\n",
       "  0.08551889657974243,\n",
       "  0.2825019359588623],\n",
       " [0.23210535943508148,\n",
       "  0.11214885860681534,\n",
       "  0.03697166219353676,\n",
       "  0.1324462741613388,\n",
       "  0.05503406003117561,\n",
       "  0.06345946341753006,\n",
       "  0.020614134147763252,\n",
       "  0.020768560469150543,\n",
       "  0.022745372727513313,\n",
       "  0.114067442715168,\n",
       "  0.011015743017196655,\n",
       "  0.020100630819797516,\n",
       "  0.08705437183380127,\n",
       "  0.04914729669690132,\n",
       "  0.05354964733123779]]"
      ]
     },
     "execution_count": 104,
     "metadata": {},
     "output_type": "execute_result"
    }
   ],
   "source": [
    "train_loss_list"
   ]
  },
  {
   "cell_type": "code",
   "execution_count": 109,
   "metadata": {},
   "outputs": [
    {
     "data": {
      "image/png": "[encoded data removed]",
      "text/plain": [
       "<Figure size 720x432 with 1 Axes>"
      ]
     },
     "metadata": {
      "needs_background": "light"
     },
     "output_type": "display_data"
    }
   ],
   "source": [
    "x = [i for i in range(15)]\n",
    "plt.figure(figsize=(10,6))\n",
    "plt.plot(x, train_loss_list[0])\n",
    "plt.plot(x, train_loss_list[1])\n",
    "plt.plot(x, train_loss_list[2])\n",
    "plt.plot(x, train_loss_list[3])\n",
    "plt.xlabel(\"epoch\")\n",
    "plt.ylabel(\"train loss\")\n",
    "plt.legend([\"hidden=1\",\"hidden=4\",\"hidden=16\",\"hidden=64\"])\n",
    "plt.show()"
   ]
  },
  {
   "cell_type": "markdown",
   "metadata": {},
   "source": [
    "这张折线图展示了训练误差在不同数量隐藏神经元下随epoch变化。可以看出，当hidden=1时训练效果比较差，可能是隐藏神经元只有一个表达力薄弱。其余四种情况训练误差都呈现震荡下降的趋势，且hidden越大，损失函数越小，发现适当增加隐藏神经元数量有利于模型捕捉信息。"
   ]
  },
  {
   "cell_type": "code",
   "execution_count": 110,
   "metadata": {},
   "outputs": [
    {
     "data": {
      "image/png": "[encoded data removed]",
      "text/plain": [
       "<Figure size 720x432 with 1 Axes>"
      ]
     },
     "metadata": {
      "needs_background": "light"
     },
     "output_type": "display_data"
    }
   ],
   "source": [
    "bar_width = 0.3\n",
    "\n",
    "plt.figure(figsize=(10,6))\n",
    "x = np.arange(4)\n",
    "x_label = [\"hidden=1\",\"hidden=4\",\"hidden=16\",\"hidden=64\"]\n",
    "plt.bar(x, train_score_list, width=bar_width, tick_label=x_label, label=\"train accuracy\")\n",
    "plt.bar(x+bar_width, test_score_list, width=bar_width, tick_label=x_label, label=\"test accuracy\")\n",
    "\n",
    "plt.legend()\n",
    "plt.ylabel(\"accuracy\")\n",
    "plt.show()"
   ]
  },
  {
   "cell_type": "markdown",
   "metadata": {},
   "source": [
    "这张柱状图展示了不同隐藏神经元数目下模型在训练集和测试集上分别取得的准确率。可以看出，当hidden=1时，准确率最低，说明此时模型的学习能力比较欠缺。其余三种情况，准确率随着hidden数量上升而上升，且每种情况下测试集准确率都略低于训练集准确率，说明模型的泛化能力还不错。"
   ]
  },
  {
   "cell_type": "markdown",
   "metadata": {},
   "source": [
    "### 第三小题"
   ]
  },
  {
   "cell_type": "code",
   "execution_count": 101,
   "metadata": {},
   "outputs": [],
   "source": [
    "class MLP(nn.Module):\n",
    "    def __init__(self, in_features, hidden_features, out_features):\n",
    "        super(MLP, self).__init__()\n",
    "        self.in_features = in_features\n",
    "        self.layer1 = nn.Linear(in_features, hidden_features) # 此处的nn.Linear是PyTorch里定义的线性层\n",
    "        self.layer2 = nn.Linear(hidden_features, out_features)\n",
    "        \n",
    "    def forward(self, x):\n",
    "        x = x.view(-1, self.in_features) # 将每张图片转换成向量\n",
    "        x = self.layer1(x)\n",
    "        x = self.layer2(x)\n",
    "        return x"
   ]
  },
  {
   "cell_type": "code",
   "execution_count": 105,
   "metadata": {},
   "outputs": [
    {
     "name": "stdout",
     "output_type": "stream",
     "text": [
      "MLP(\n",
      "  (layer1): Linear(in_features=784, out_features=64, bias=True)\n",
      "  (layer2): Linear(in_features=64, out_features=10, bias=True)\n",
      ")\n"
     ]
    }
   ],
   "source": [
    "hidden = 64\n",
    "model = MLP(in_features=feat_dim, hidden_features=hidden, out_features=num_classes)\n",
    "model = model.to(device)\n",
    "print(model)"
   ]
  },
  {
   "cell_type": "code",
   "execution_count": 106,
   "metadata": {},
   "outputs": [
    {
     "name": "stdout",
     "output_type": "stream",
     "text": [
      "Epoch: 1, Training Loss: 0.4224\n",
      "Epoch: 2, Training Loss: 0.5624\n",
      "Epoch: 3, Training Loss: 0.0830\n",
      "Epoch: 4, Training Loss: 0.2119\n",
      "Epoch: 5, Training Loss: 0.1327\n",
      "Epoch: 6, Training Loss: 0.3632\n",
      "Epoch: 7, Training Loss: 0.5119\n",
      "Epoch: 8, Training Loss: 0.2342\n",
      "Epoch: 9, Training Loss: 0.2825\n",
      "Epoch: 10, Training Loss: 0.1132\n",
      "Epoch: 11, Training Loss: 0.0929\n",
      "Epoch: 12, Training Loss: 0.1753\n",
      "Epoch: 13, Training Loss: 0.2910\n",
      "Epoch: 14, Training Loss: 0.1645\n",
      "Epoch: 15, Training Loss: 0.0419\n",
      "共有55734张图片，准确率为: 92.89%\n",
      "共有9214张图片，准确率为: 92.14%\n"
     ]
    }
   ],
   "source": [
    "train_loss_norelu = train(model, data_train)\n",
    "\n",
    "train_score_norelu = test(model, data_train)\n",
    "test_score_norelu = test(model, data_test)"
   ]
  },
  {
   "cell_type": "code",
   "execution_count": 107,
   "metadata": {},
   "outputs": [
    {
     "data": {
      "text/plain": [
       "[0.42241066694259644,\n",
       " 0.5623505711555481,\n",
       " 0.0829857587814331,\n",
       " 0.21190997958183289,\n",
       " 0.132684588432312,\n",
       " 0.36317694187164307,\n",
       " 0.5118504166603088,\n",
       " 0.23415541648864746,\n",
       " 0.28246593475341797,\n",
       " 0.11323849856853485,\n",
       " 0.09292437881231308,\n",
       " 0.17529678344726562,\n",
       " 0.29102814197540283,\n",
       " 0.16450980305671692,\n",
       " 0.04193606227636337]"
      ]
     },
     "execution_count": 107,
     "metadata": {},
     "output_type": "execute_result"
    }
   ],
   "source": [
    "train_loss_norelu"
   ]
  },
  {
   "cell_type": "code",
   "execution_count": 108,
   "metadata": {},
   "outputs": [
    {
     "data": {
      "text/plain": [
       "(tensor(0.9289), tensor(0.9214))"
      ]
     },
     "execution_count": 108,
     "metadata": {},
     "output_type": "execute_result"
    }
   ],
   "source": [
    "train_score_norelu, test_score_norelu"
   ]
  },
  {
   "cell_type": "code",
   "execution_count": 111,
   "metadata": {},
   "outputs": [],
   "source": [
    "train_loss_withrelu = train_loss_list[3]\n",
    "train_score_withrelu = train_score_list[3]\n",
    "test_score_withrelu = test_score_list[3]"
   ]
  },
  {
   "cell_type": "code",
   "execution_count": 112,
   "metadata": {},
   "outputs": [
    {
     "data": {
      "text/plain": [
       "[0.23210535943508148,\n",
       " 0.11214885860681534,\n",
       " 0.03697166219353676,\n",
       " 0.1324462741613388,\n",
       " 0.05503406003117561,\n",
       " 0.06345946341753006,\n",
       " 0.020614134147763252,\n",
       " 0.020768560469150543,\n",
       " 0.022745372727513313,\n",
       " 0.114067442715168,\n",
       " 0.011015743017196655,\n",
       " 0.020100630819797516,\n",
       " 0.08705437183380127,\n",
       " 0.04914729669690132,\n",
       " 0.05354964733123779]"
      ]
     },
     "execution_count": 112,
     "metadata": {},
     "output_type": "execute_result"
    }
   ],
   "source": [
    "train_loss_withrelu"
   ]
  },
  {
   "cell_type": "code",
   "execution_count": 114,
   "metadata": {},
   "outputs": [
    {
     "data": {
      "text/plain": [
       "(tensor(0.9941), tensor(0.9747))"
      ]
     },
     "execution_count": 114,
     "metadata": {},
     "output_type": "execute_result"
    }
   ],
   "source": [
    "train_score_withrelu, test_score_withrelu"
   ]
  },
  {
   "cell_type": "code",
   "execution_count": 115,
   "metadata": {},
   "outputs": [
    {
     "data": {
      "image/png": "[encoded data removed]",
      "text/plain": [
       "<Figure size 720x432 with 1 Axes>"
      ]
     },
     "metadata": {
      "needs_background": "light"
     },
     "output_type": "display_data"
    }
   ],
   "source": [
    "x = [i for i in range(15)]\n",
    "plt.figure(figsize=(10,6))\n",
    "plt.plot(x, train_loss_withrelu)\n",
    "plt.plot(x, train_loss_norelu)\n",
    "\n",
    "plt.xlabel(\"epoch\")\n",
    "plt.ylabel(\"train loss\")\n",
    "plt.legend([\"with relu\", \"no relu\"])\n",
    "plt.show()"
   ]
  },
  {
   "cell_type": "markdown",
   "metadata": {},
   "source": [
    "从这张折线图可以看出，在没有激活函数时，损失函数仍然呈震荡下降的趋势，但整体要高于有损失函数的情况，且震荡更为剧烈。"
   ]
  },
  {
   "cell_type": "code",
   "execution_count": 116,
   "metadata": {},
   "outputs": [
    {
     "data": {
      "image/png": "[encoded data removed]",
      "text/plain": [
       "<Figure size 720x432 with 1 Axes>"
      ]
     },
     "metadata": {
      "needs_background": "light"
     },
     "output_type": "display_data"
    }
   ],
   "source": [
    "bar_width = 0.3\n",
    "\n",
    "plt.figure(figsize=(10,6))\n",
    "x = np.arange(2)\n",
    "x_label = [\"with relu\", \"no relu\"]\n",
    "plt.bar(x, [train_score_withrelu, train_score_norelu], width=bar_width, tick_label=x_label, label=\"train accuracy\")\n",
    "plt.bar(x+bar_width, [test_score_withrelu, test_score_norelu], width=bar_width, tick_label=x_label, label=\"test accuracy\")\n",
    "\n",
    "plt.legend()\n",
    "plt.ylabel(\"accuracy\")\n",
    "plt.show()"
   ]
  },
  {
   "cell_type": "markdown",
   "metadata": {},
   "source": [
    "从这张柱状图可以看出，没有激活函数时的准确率都要低于有激活函数时，说明增加激活函数可以增加模型的表达能力，更好地捕捉数据特征，达到更好的训练效果。"
   ]
  }
 ],
 "metadata": {
  "kernelspec": {
   "display_name": "Python 3.7.0 ('pytorch')",
   "language": "python",
   "name": "python3"
  },
  "language_info": {
   "codemirror_mode": {
    "name": "ipython",
    "version": 3
   },
   "file_extension": ".py",
   "mimetype": "text/x-python",
   "name": "python",
   "nbconvert_exporter": "python",
   "pygments_lexer": "ipython3",
   "version": "3.7.0"
  },
  "vscode": {
   "interpreter": {
    "hash": "71342f419acc3ba6ae382518c4ba2a9e6f9bd8751a76a463bc8e77674675b221"
   }
  }
 },
 "nbformat": 4,
 "nbformat_minor": 4
}
